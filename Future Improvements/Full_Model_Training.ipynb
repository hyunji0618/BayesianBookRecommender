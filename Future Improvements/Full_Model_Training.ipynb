{
 "cells": [
  {
   "cell_type": "markdown",
   "metadata": {},
   "source": [
    "# Full Model Training & Recommendation Generation:"
   ]
  },
  {
   "cell_type": "markdown",
   "metadata": {},
   "source": [
    "This modeling is added as a future improvement due to the runtime limitation."
   ]
  },
  {
   "cell_type": "code",
   "execution_count": 2,
   "metadata": {},
   "outputs": [],
   "source": [
    "import numpy as np\n",
    "import pandas as pd\n",
    "import pymc as pm\n",
    "import matplotlib.pyplot as plt\n",
    "from sklearn.model_selection import train_test_split\n",
    "from sklearn.metrics import mean_absolute_error, mean_squared_error, precision_score, recall_score"
   ]
  },
  {
   "cell_type": "code",
   "execution_count": 3,
   "metadata": {},
   "outputs": [],
   "source": [
    "# Load dataset\n",
    "df = pd.read_csv(\"../book_ratings_cleaned.csv\")\n",
    "\n",
    "# Select relevant columns\n",
    "df = df[['User-ID', 'ISBN', 'Book-Rating']]"
   ]
  },
  {
   "cell_type": "code",
   "execution_count": 4,
   "metadata": {},
   "outputs": [],
   "source": [
    "# Drop zero values as they are not the actual rating\n",
    "df = df[df['Book-Rating'] > 0]"
   ]
  },
  {
   "cell_type": "code",
   "execution_count": 5,
   "metadata": {},
   "outputs": [
    {
     "data": {
      "text/plain": [
       "383840"
      ]
     },
     "execution_count": 5,
     "metadata": {},
     "output_type": "execute_result"
    }
   ],
   "source": [
    "# Check the size of the data\n",
    "len(df)"
   ]
  },
  {
   "cell_type": "code",
   "execution_count": 6,
   "metadata": {},
   "outputs": [
    {
     "data": {
      "text/html": [
       "<div>\n",
       "<style scoped>\n",
       "    .dataframe tbody tr th:only-of-type {\n",
       "        vertical-align: middle;\n",
       "    }\n",
       "\n",
       "    .dataframe tbody tr th {\n",
       "        vertical-align: top;\n",
       "    }\n",
       "\n",
       "    .dataframe thead th {\n",
       "        text-align: right;\n",
       "    }\n",
       "</style>\n",
       "<table border=\"1\" class=\"dataframe\">\n",
       "  <thead>\n",
       "    <tr style=\"text-align: right;\">\n",
       "      <th></th>\n",
       "      <th>User-ID</th>\n",
       "      <th>ISBN</th>\n",
       "      <th>Book-Rating</th>\n",
       "    </tr>\n",
       "  </thead>\n",
       "  <tbody>\n",
       "    <tr>\n",
       "      <th>1</th>\n",
       "      <td>276726</td>\n",
       "      <td>0155061224</td>\n",
       "      <td>5</td>\n",
       "    </tr>\n",
       "    <tr>\n",
       "      <th>3</th>\n",
       "      <td>276729</td>\n",
       "      <td>052165615X</td>\n",
       "      <td>3</td>\n",
       "    </tr>\n",
       "    <tr>\n",
       "      <th>4</th>\n",
       "      <td>276729</td>\n",
       "      <td>0521795028</td>\n",
       "      <td>6</td>\n",
       "    </tr>\n",
       "    <tr>\n",
       "      <th>6</th>\n",
       "      <td>276744</td>\n",
       "      <td>038550120X</td>\n",
       "      <td>7</td>\n",
       "    </tr>\n",
       "    <tr>\n",
       "      <th>13</th>\n",
       "      <td>276747</td>\n",
       "      <td>0060517794</td>\n",
       "      <td>9</td>\n",
       "    </tr>\n",
       "  </tbody>\n",
       "</table>\n",
       "</div>"
      ],
      "text/plain": [
       "    User-ID        ISBN  Book-Rating\n",
       "1    276726  0155061224            5\n",
       "3    276729  052165615X            3\n",
       "4    276729  0521795028            6\n",
       "6    276744  038550120X            7\n",
       "13   276747  0060517794            9"
      ]
     },
     "execution_count": 6,
     "metadata": {},
     "output_type": "execute_result"
    }
   ],
   "source": [
    "df.head()"
   ]
  },
  {
   "cell_type": "code",
   "execution_count": 7,
   "metadata": {},
   "outputs": [],
   "source": [
    "# Create a dataframe grouped by unique users\n",
    "def create_df_user_reviews(df):\n",
    "    # Count the number of reviews per user\n",
    "    user_counts = df['User-ID'].value_counts()\n",
    "    \n",
    "    # Store number of reviews per user in a new DataFrame\n",
    "    df_user_reviews = user_counts.reset_index()\n",
    "    df_user_reviews.columns = ['User-ID', 'Review-Count']\n",
    "    \n",
    "    return df_user_reviews"
   ]
  },
  {
   "cell_type": "code",
   "execution_count": 8,
   "metadata": {},
   "outputs": [
    {
     "data": {
      "text/html": [
       "<div>\n",
       "<style scoped>\n",
       "    .dataframe tbody tr th:only-of-type {\n",
       "        vertical-align: middle;\n",
       "    }\n",
       "\n",
       "    .dataframe tbody tr th {\n",
       "        vertical-align: top;\n",
       "    }\n",
       "\n",
       "    .dataframe thead th {\n",
       "        text-align: right;\n",
       "    }\n",
       "</style>\n",
       "<table border=\"1\" class=\"dataframe\">\n",
       "  <thead>\n",
       "    <tr style=\"text-align: right;\">\n",
       "      <th></th>\n",
       "      <th>User-ID</th>\n",
       "      <th>Review-Count</th>\n",
       "    </tr>\n",
       "  </thead>\n",
       "  <tbody>\n",
       "    <tr>\n",
       "      <th>0</th>\n",
       "      <td>11676</td>\n",
       "      <td>6943</td>\n",
       "    </tr>\n",
       "    <tr>\n",
       "      <th>1</th>\n",
       "      <td>98391</td>\n",
       "      <td>5691</td>\n",
       "    </tr>\n",
       "    <tr>\n",
       "      <th>2</th>\n",
       "      <td>189835</td>\n",
       "      <td>1899</td>\n",
       "    </tr>\n",
       "    <tr>\n",
       "      <th>3</th>\n",
       "      <td>153662</td>\n",
       "      <td>1845</td>\n",
       "    </tr>\n",
       "    <tr>\n",
       "      <th>4</th>\n",
       "      <td>23902</td>\n",
       "      <td>1180</td>\n",
       "    </tr>\n",
       "    <tr>\n",
       "      <th>...</th>\n",
       "      <td>...</td>\n",
       "      <td>...</td>\n",
       "    </tr>\n",
       "    <tr>\n",
       "      <th>68086</th>\n",
       "      <td>114767</td>\n",
       "      <td>1</td>\n",
       "    </tr>\n",
       "    <tr>\n",
       "      <th>68087</th>\n",
       "      <td>114771</td>\n",
       "      <td>1</td>\n",
       "    </tr>\n",
       "    <tr>\n",
       "      <th>68088</th>\n",
       "      <td>114772</td>\n",
       "      <td>1</td>\n",
       "    </tr>\n",
       "    <tr>\n",
       "      <th>68089</th>\n",
       "      <td>114777</td>\n",
       "      <td>1</td>\n",
       "    </tr>\n",
       "    <tr>\n",
       "      <th>68090</th>\n",
       "      <td>276721</td>\n",
       "      <td>1</td>\n",
       "    </tr>\n",
       "  </tbody>\n",
       "</table>\n",
       "<p>68091 rows × 2 columns</p>\n",
       "</div>"
      ],
      "text/plain": [
       "       User-ID  Review-Count\n",
       "0        11676          6943\n",
       "1        98391          5691\n",
       "2       189835          1899\n",
       "3       153662          1845\n",
       "4        23902          1180\n",
       "...        ...           ...\n",
       "68086   114767             1\n",
       "68087   114771             1\n",
       "68088   114772             1\n",
       "68089   114777             1\n",
       "68090   276721             1\n",
       "\n",
       "[68091 rows x 2 columns]"
      ]
     },
     "execution_count": 8,
     "metadata": {},
     "output_type": "execute_result"
    }
   ],
   "source": [
    "df_user_reviews = create_df_user_reviews(df)\n",
    "df_user_reviews"
   ]
  },
  {
   "cell_type": "code",
   "execution_count": 9,
   "metadata": {},
   "outputs": [],
   "source": [
    "# Create a dataframe with the users that made less then or equal to 20 reviews\n",
    "def create_df_filtered(df):\n",
    "    # Count the number of reviews per user\n",
    "    user_counts = df['User-ID'].value_counts()\n",
    "    \n",
    "    # Remove users with 20 or more reviews\n",
    "    valid_users = user_counts[user_counts >= 2].index\n",
    "    df_filtered = df[df['User-ID'].isin(valid_users)]\n",
    "    \n",
    "    return df_filtered"
   ]
  },
  {
   "cell_type": "code",
   "execution_count": 10,
   "metadata": {},
   "outputs": [
    {
     "data": {
      "text/plain": [
       "344617"
      ]
     },
     "execution_count": 10,
     "metadata": {},
     "output_type": "execute_result"
    }
   ],
   "source": [
    "df = create_df_filtered(df)\n",
    "len(df)"
   ]
  },
  {
   "cell_type": "code",
   "execution_count": 11,
   "metadata": {},
   "outputs": [
    {
     "data": {
      "text/html": [
       "<div>\n",
       "<style scoped>\n",
       "    .dataframe tbody tr th:only-of-type {\n",
       "        vertical-align: middle;\n",
       "    }\n",
       "\n",
       "    .dataframe tbody tr th {\n",
       "        vertical-align: top;\n",
       "    }\n",
       "\n",
       "    .dataframe thead th {\n",
       "        text-align: right;\n",
       "    }\n",
       "</style>\n",
       "<table border=\"1\" class=\"dataframe\">\n",
       "  <thead>\n",
       "    <tr style=\"text-align: right;\">\n",
       "      <th></th>\n",
       "      <th>User-ID</th>\n",
       "      <th>ISBN</th>\n",
       "      <th>Book-Rating</th>\n",
       "    </tr>\n",
       "  </thead>\n",
       "  <tbody>\n",
       "    <tr>\n",
       "      <th>3</th>\n",
       "      <td>276729</td>\n",
       "      <td>052165615X</td>\n",
       "      <td>3</td>\n",
       "    </tr>\n",
       "    <tr>\n",
       "      <th>4</th>\n",
       "      <td>276729</td>\n",
       "      <td>0521795028</td>\n",
       "      <td>6</td>\n",
       "    </tr>\n",
       "    <tr>\n",
       "      <th>13</th>\n",
       "      <td>276747</td>\n",
       "      <td>0060517794</td>\n",
       "      <td>9</td>\n",
       "    </tr>\n",
       "    <tr>\n",
       "      <th>16</th>\n",
       "      <td>276747</td>\n",
       "      <td>0671537458</td>\n",
       "      <td>9</td>\n",
       "    </tr>\n",
       "    <tr>\n",
       "      <th>17</th>\n",
       "      <td>276747</td>\n",
       "      <td>0679776818</td>\n",
       "      <td>8</td>\n",
       "    </tr>\n",
       "  </tbody>\n",
       "</table>\n",
       "</div>"
      ],
      "text/plain": [
       "    User-ID        ISBN  Book-Rating\n",
       "3    276729  052165615X            3\n",
       "4    276729  0521795028            6\n",
       "13   276747  0060517794            9\n",
       "16   276747  0671537458            9\n",
       "17   276747  0679776818            8"
      ]
     },
     "execution_count": 11,
     "metadata": {},
     "output_type": "execute_result"
    }
   ],
   "source": [
    "df.head()"
   ]
  },
  {
   "cell_type": "code",
   "execution_count": 12,
   "metadata": {},
   "outputs": [],
   "source": [
    "# Encode User-ID and ISBN as categorical for indexing\n",
    "df['User-Index'] = df['User-ID'].astype(\"category\").cat.codes\n",
    "df['Book-Index'] = df['ISBN'].astype(\"category\").cat.codes\n",
    "\n",
    "# **Remap indices to contiguous range** (Fixes the IndexError)\n",
    "df['User-Index'] = df['User-Index'].astype(\"category\").cat.codes\n",
    "df['Book-Index'] = df['Book-Index'].astype(\"category\").cat.codes"
   ]
  },
  {
   "cell_type": "code",
   "execution_count": 13,
   "metadata": {},
   "outputs": [],
   "source": [
    "# Compute rating counts per user and book\n",
    "user_rating_counts = df.groupby('User-Index')['Book-Rating'].count()\n",
    "book_rating_counts = df.groupby('Book-Index')['Book-Rating'].count()\n",
    "\n",
    "# Avoid division by zero\n",
    "user_rating_counts[user_rating_counts == 0] = 1\n",
    "book_rating_counts[book_rating_counts == 0] = 1"
   ]
  },
  {
   "cell_type": "code",
   "execution_count": 14,
   "metadata": {},
   "outputs": [],
   "source": [
    "# Train-test split\n",
    "train_df, test_df = train_test_split(df, test_size=0.2, random_state=42)"
   ]
  },
  {
   "cell_type": "code",
   "execution_count": 15,
   "metadata": {},
   "outputs": [],
   "source": [
    "# Convert to numpy arrays for modeling\n",
    "train_user_ids = train_df['User-Index'].values\n",
    "test_user_ids = test_df['User-Index'].values\n",
    "train_book_ids = train_df['Book-Index'].values\n",
    "test_book_ids = test_df['Book-Index'].values\n",
    "train_ratings = train_df['Book-Rating'].values # Using raw ratings for Poisson\n",
    "test_ratings = test_df['Book-Rating'].values"
   ]
  },
  {
   "cell_type": "code",
   "execution_count": 16,
   "metadata": {},
   "outputs": [
    {
     "data": {
      "text/plain": [
       "275693"
      ]
     },
     "execution_count": 16,
     "metadata": {},
     "output_type": "execute_result"
    }
   ],
   "source": [
    "len(train_user_ids)"
   ]
  },
  {
   "cell_type": "code",
   "execution_count": 17,
   "metadata": {},
   "outputs": [
    {
     "name": "stdout",
     "output_type": "stream",
     "text": [
      "Number of unique users: 28868\n",
      "Number of unique books: 141472\n"
     ]
    }
   ],
   "source": [
    "# Get updated number of unique users and books\n",
    "num_users = df['User-Index'].nunique()\n",
    "num_books = df['Book-Index'].nunique()\n",
    "\n",
    "print(\"Number of unique users:\", num_users)\n",
    "print(\"Number of unique books:\", num_books)"
   ]
  },
  {
   "cell_type": "markdown",
   "metadata": {},
   "source": [
    "#### Model Training Using NUTS"
   ]
  },
  {
   "cell_type": "code",
   "execution_count": 18,
   "metadata": {},
   "outputs": [
    {
     "ename": "",
     "evalue": "",
     "output_type": "error",
     "traceback": [
      "\u001b[1;31mThe Kernel crashed while executing code in the current cell or a previous cell. \n",
      "\u001b[1;31mPlease review the code in the cell(s) to identify a possible cause of the failure. \n",
      "\u001b[1;31mClick <a href='https://aka.ms/vscodeJupyterKernelCrash'>here</a> for more info. \n",
      "\u001b[1;31mView Jupyter <a href='command:jupyter.viewOutput'>log</a> for further details."
     ]
    }
   ],
   "source": [
    "# Set latent dimension \n",
    "latent_dim = 5\n",
    "\n",
    "best_sigma_u = 1.2595968179742412\n",
    "best_sigma_b = 0.23533042331948476\n",
    "best_alpha = 4.871402042323151\n",
    "best_beta = 1.2405795681084912\n",
    "\n",
    "# Bayesian Probabilistic Matrix Factorization Model with Gamma-Poisson\n",
    "with pm.Model() as best_model:\n",
    "    mu = pm.Gamma(\"mu\", alpha=best_alpha, beta=best_beta)\n",
    "    user_bias = pm.Normal(\"user_bias\", mu=0, sigma=0.5 / np.sqrt(user_rating_counts + 1), shape=num_users)\n",
    "    book_bias = pm.Normal(\"book_bias\", mu=0, sigma=0.5 / np.sqrt(book_rating_counts + 1), shape=num_books)\n",
    "\n",
    "    sigma_u = pm.HalfCauchy(\"sigma_u\", beta=best_sigma_u)\n",
    "    sigma_b = pm.HalfCauchy(\"sigma_b\", beta=best_sigma_b)\n",
    "\n",
    "    user_factors = pm.Normal(\"user_factors\", mu=0, sigma=sigma_u, shape=(num_users, latent_dim))\n",
    "    book_factors = pm.Normal(\"book_factors\", mu=0, sigma=sigma_b, shape=(num_books, latent_dim))\n",
    "\n",
    "    lambda_rating = pm.math.exp(\n",
    "        mu + user_bias[train_user_ids] + book_bias[train_user_ids] +\n",
    "        (user_factors[train_user_ids] * book_factors[train_user_ids]).sum(axis=1)\n",
    "    )\n",
    "\n",
    "    ratings_obs = pm.Poisson(\"ratings_obs\", mu=lambda_rating, observed=train_ratings)\n",
    "\n",
    "    # using jax to accelarate the sampling (numpyro) and utilize multiprocessing\n",
    "    best_trace = pm.sample(\n",
    "        draws=2000, tune=1000, chains=2,\n",
    "        nuts_sampler=\"numpyro\",\n",
    "        nuts_sampler_kwargs={\"chain_method\": \"vectorized\"}\n",
    "    )\n",
    "   \n",
    "# **Extract posterior values manually since PyMC won't sample `ratings_obs`**\n",
    "with best_model:\n",
    "    print(\"\\nManually Generating Predictions Using Posterior Samples...\")\n",
    "    \n",
    "    # Extract posterior values\n",
    "    mu_post = best_trace.posterior[\"mu\"].mean().item()\n",
    "    user_bias_post = best_trace.posterior[\"user_bias\"].mean(dim=(\"chain\", \"draw\")).values\n",
    "    book_bias_post = best_trace.posterior[\"book_bias\"].mean(dim=(\"chain\", \"draw\")).values\n",
    "    user_factors_post = best_trace.posterior[\"user_factors\"].mean(dim=(\"chain\", \"draw\")).values\n",
    "    book_factors_post = best_trace.posterior[\"book_factors\"].mean(dim=(\"chain\", \"draw\")).values\n",
    "\n",
    "    # Compute expected ratings\n",
    "    predicted_ratings = np.exp(\n",
    "        mu_post + \n",
    "        user_bias_post[test_user_ids] + \n",
    "        book_bias_post[test_book_ids] +\n",
    "        (user_factors_post[test_user_ids] * book_factors_post[test_book_ids]).sum(axis=1)\n",
    "    )\n",
    "\n",
    "    print(\"\\nExample of Predicted Ratings (posterior predictive mean):\")\n",
    "    print(predicted_ratings[:5])\n",
    "    \n",
    "# Evaluation Metrics\n",
    "mae = mean_absolute_error(test_ratings, predicted_ratings)\n",
    "rmse = np.sqrt(mean_squared_error(test_ratings, predicted_ratings))\n",
    "\n",
    "print(f\"Mean Absolute Error (MAE): {mae:.4f}\")\n",
    "print(f\"Root Mean Squared Error (RMSE): {rmse:.4f}\")"
   ]
  },
  {
   "cell_type": "markdown",
   "metadata": {},
   "source": [
    "#### Evaluation of Precision, Recall, MAE, and RMSE"
   ]
  },
  {
   "cell_type": "code",
   "execution_count": null,
   "metadata": {},
   "outputs": [
    {
     "name": "stdout",
     "output_type": "stream",
     "text": [
      "MAE: 1.2467\n",
      "RMSE: 1.4158\n",
      "Precision: 0.6050\n",
      "Recall: 0.6050\n",
      "MAE: 2.2279\n",
      "RMSE: 2.5468\n",
      "Precision: 0.1950\n",
      "Recall: 0.1950\n"
     ]
    }
   ],
   "source": [
    "# Evaluation of Precision, Recall, MAE, and RMSE\n",
    "\n",
    "def evaluate_predictions(true_ratings, predicted_ratings, threshold=7):\n",
    "    mae = mean_absolute_error(true_ratings, predicted_ratings)\n",
    "    rmse = np.sqrt(mean_squared_error(true_ratings, predicted_ratings))\n",
    "    \n",
    "    # Convert to binary relevance (1 if rating >= threshold, else 0)\n",
    "    true_binary = (true_ratings >= threshold).astype(int)\n",
    "    predicted_binary = (predicted_ratings >= threshold).astype(int)\n",
    "    \n",
    "    precision = precision_score(true_binary, predicted_binary, average='micro')\n",
    "    recall = recall_score(true_binary, predicted_binary, average='micro')\n",
    "    \n",
    "    print(f\"MAE: {mae:.4f}\")\n",
    "    print(f\"RMSE: {rmse:.4f}\")\n",
    "    print(f\"Precision: {precision:.4f}\")\n",
    "    print(f\"Recall: {recall:.4f}\")\n",
    "\n",
    "# Running evaluation\n",
    "predicted_train_ratings = np.exp(\n",
    "    best_trace.posterior[\"mu\"].mean().item() +\n",
    "    best_trace.posterior[\"user_bias\"].mean(dim=(\"chain\", \"draw\")).values[train_user_ids] +\n",
    "    best_trace.posterior[\"book_bias\"].mean(dim=(\"chain\", \"draw\")).values[train_book_ids]\n",
    ")\n",
    "predicted_test_ratings = np.exp(\n",
    "    best_trace.posterior[\"mu\"].mean().item() +\n",
    "    best_trace.posterior[\"user_bias\"].mean(dim=(\"chain\", \"draw\")).values[test_user_ids] +\n",
    "    best_trace.posterior[\"book_bias\"].mean(dim=(\"chain\", \"draw\")).values[test_book_ids]\n",
    ")\n",
    "\n",
    "evaluate_predictions(train_ratings, predicted_train_ratings)\n",
    "evaluate_predictions(test_ratings, predicted_test_ratings)"
   ]
  },
  {
   "cell_type": "markdown",
   "metadata": {},
   "source": [
    "#### Bayes General Multi-Step Lookahead Recommendation "
   ]
  },
  {
   "cell_type": "code",
   "execution_count": null,
   "metadata": {},
   "outputs": [
    {
     "name": "stdout",
     "output_type": "stream",
     "text": [
      "\n",
      "Top-3 Recommended Books for User 42 : [738, 849, 625]\n"
     ]
    }
   ],
   "source": [
    "# ---- Bayes General Multi-Step Lookahead Recommendation ---- #\n",
    "\n",
    "def bayes_general_recommendation(user_index, book_indices, trace, top_k=3, exploration_factor=0.5, regret_threshold=0.8, max_regret=2.0):\n",
    "    \"\"\"\n",
    "    Multi-step lookahead Bayesian regret minimization for recommending 5 books.\n",
    "    \"\"\"\n",
    "    mu_samples = trace.posterior[\"mu\"].values\n",
    "    user_bias_samples = trace.posterior[\"user_bias\"].values[:, :, user_index]\n",
    "    book_bias_samples = trace.posterior[\"book_bias\"].values[:, :, book_indices]\n",
    "    user_factors_samples = trace.posterior[\"user_factors\"].values[:, :, user_index, :]\n",
    "    book_factors_samples = trace.posterior[\"book_factors\"].values[:, :, book_indices, :]\n",
    "\n",
    "    num_samples = mu_samples.shape[1]  # Number of posterior samples\n",
    "    \n",
    "    # Compute expected rewards using posterior sampling\n",
    "    expected_rewards = np.mean(\n",
    "        np.exp(mu_samples[:, :, None] + user_bias_samples[:, :, None] + book_bias_samples +\n",
    "               np.sum(user_factors_samples[:, :, None, :] * book_factors_samples, axis=-1)), axis=1\n",
    "    )\n",
    "\n",
    "    # Compute variance (uncertainty measure)\n",
    "    rating_uncertainty = np.var(\n",
    "        np.exp(mu_samples[:, :, None] + user_bias_samples[:, :, None] + book_bias_samples +\n",
    "               np.sum(user_factors_samples[:, :, None, :] * book_factors_samples, axis=-1)), axis=1\n",
    "    )\n",
    "    \n",
    "    # Compute Bayesian regret\n",
    "    best_expected_reward = np.max(expected_rewards, axis=1)\n",
    "    regrets = best_expected_reward[:, None] - expected_rewards\n",
    "\n",
    "    # Cap regret to prevent extreme exploration\n",
    "    regrets = np.clip(regrets, 0, max_regret)\n",
    "\n",
    "    # Apply regret threshold\n",
    "    should_explore = regrets > regret_threshold\n",
    "\n",
    "    # Compute future learning potential\n",
    "    expected_future_gain = exploration_factor * rating_uncertainty\n",
    "\n",
    "    # Compute exploration-adjusted score\n",
    "    exploration_score = expected_rewards + expected_future_gain\n",
    "\n",
    "    # Rank books\n",
    "    ranked_books = np.argsort(-exploration_score, axis=1)  # Sort in descending order\n",
    "\n",
    "    # Select top-k books for recommendation\n",
    "    selected_books = [book_indices[i] for i in ranked_books[0, :top_k]]\n",
    "\n",
    "    return selected_books\n",
    "\n",
    "# Example usage: Recommend 5 books for a user\n",
    "user_id_example = 42  # Replace with an actual user ID\n",
    "book_pool = np.arange(num_books)  # Assuming all books are available\n",
    "\n",
    "recommended_books = bayes_general_recommendation(user_id_example, book_pool, best_trace, top_k=3)\n",
    "print(\"\\nTop-3 Recommended Books for User\", user_id_example, \":\", recommended_books)"
   ]
  },
  {
   "cell_type": "markdown",
   "metadata": {},
   "source": [
    "#### Map the recommended books to the book metadata\n",
    "Saved as 'book_recommendations.nc'"
   ]
  },
  {
   "cell_type": "code",
   "execution_count": null,
   "metadata": {},
   "outputs": [
    {
     "name": "stdout",
     "output_type": "stream",
     "text": [
      "\n",
      "Top-5 Recommended Books (ISBNs): {}\n",
      "✅ Recommendation data saved as 'book_recommendations.nc'\n"
     ]
    }
   ],
   "source": [
    "import xarray as xr\n",
    "\n",
    "# Get all user indices\n",
    "all_users = df['User-Index'].unique()\n",
    "\n",
    "# Create an empty dictionary to store recommendations\n",
    "recommended_isbns = {}\n",
    "\n",
    "# Create a dictionary mapping Book-Index to ISBN\n",
    "book_index_to_isbn = df.set_index('Book-Index')['ISBN'].to_dict()\n",
    "\n",
    "# Iterate through each user and get book recommendations\n",
    "for user_id in all_users:\n",
    "    recommended_books = bayes_general_recommendation(user_id, np.arange(num_books), best_trace, top_k=3)\n",
    "    recommended_isbns[user_id] = [book_index_to_isbn[idx] for idx in recommended_books if idx in book_index_to_isbn]\n",
    "    #recommendations[user_id] = recommended_books\n",
    "\n",
    "# Convert to DataFrame\n",
    "rec_df = pd.DataFrame.from_dict(recommended_isbns, orient='index', columns=[f'Rec_{i+1}' for i in range(3)])\n",
    "\n",
    "# Reset index for merging\n",
    "rec_df.reset_index(inplace=True)\n",
    "rec_df.rename(columns={'index': 'User-Index'}, inplace=True)\n",
    "\n",
    "# Merge with the original dataframe on \"User-Index\"\n",
    "df_combined = df.merge(rec_df, on='User-Index', how='left')\n",
    "\n",
    "df_combined = df_combined.drop(columns=['User-Index', 'Book-Index'])\n",
    "\n",
    "# Convert the dataframe to xarray Dataset for NetCDF format\n",
    "ds = xr.Dataset.from_dataframe(df_combined)\n",
    "\n",
    "# Save as a .nc file\n",
    "ds.to_netcdf(\"book_recommendations.nc\")\n",
    "\n",
    "print(\"✅ Recommendation data saved as 'book_recommendations.nc'\")\n"
   ]
  }
 ],
 "metadata": {
  "kernelspec": {
   "display_name": "bayes",
   "language": "python",
   "name": "python3"
  },
  "language_info": {
   "codemirror_mode": {
    "name": "ipython",
    "version": 3
   },
   "file_extension": ".py",
   "mimetype": "text/x-python",
   "name": "python",
   "nbconvert_exporter": "python",
   "pygments_lexer": "ipython3",
   "version": "3.10.13"
  }
 },
 "nbformat": 4,
 "nbformat_minor": 2
}
